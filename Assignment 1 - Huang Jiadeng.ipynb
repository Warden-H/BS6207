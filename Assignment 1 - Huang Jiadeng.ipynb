{
 "metadata": {
  "language_info": {
   "codemirror_mode": {
    "name": "ipython",
    "version": 3
   },
   "file_extension": ".py",
   "mimetype": "text/x-python",
   "name": "python",
   "nbconvert_exporter": "python",
   "pygments_lexer": "ipython3",
   "version": "3.8.8"
  },
  "orig_nbformat": 2,
  "kernelspec": {
   "name": "python3",
   "display_name": "Python 3.8.8 64-bit ('DeepLearning': conda)",
   "metadata": {
    "interpreter": {
     "hash": "0ee331321a9a075ceb5dd851b0096fd7d04a308855411bb4d0c4ecd76c1785a0"
    }
   }
  }
 },
 "nbformat": 4,
 "nbformat_minor": 2,
 "cells": [
  {
   "cell_type": "code",
   "execution_count": 107,
   "metadata": {},
   "outputs": [],
   "source": [
    "import pandas as pd\n",
    "import numpy as np\n",
    "import torch\n",
    "import random\n",
    "import math"
   ]
  },
  {
   "source": [
    "## Build the model"
   ],
   "cell_type": "markdown",
   "metadata": {}
  },
  {
   "cell_type": "code",
   "execution_count": 108,
   "metadata": {},
   "outputs": [],
   "source": [
    "class Model(torch.nn.Module):\n",
    "    def __init__(self):\n",
    "        super(Model,self).__init__()\n",
    "        N=1200\n",
    "        self.dense = torch.nn.Sequential(\n",
    "            torch.nn.Linear(2, 10),\n",
    "            torch.nn.Sigmoid(),\n",
    "            torch.nn.Linear(10, 10),\n",
    "            torch.nn.Sigmoid(),\n",
    "            torch.nn.Linear(10,1)\n",
    "        )\n",
    "\n",
    "        \n",
    "    def forward(self, x):\n",
    "        out = self.dense(x)\n",
    "        return out"
   ]
  },
  {
   "cell_type": "code",
   "execution_count": 109,
   "metadata": {},
   "outputs": [
    {
     "output_type": "stream",
     "name": "stdout",
     "text": [
      "Model(\n  (dense): Sequential(\n    (0): Linear(in_features=2, out_features=10, bias=True)\n    (1): Sigmoid()\n    (2): Linear(in_features=10, out_features=10, bias=True)\n    (3): Sigmoid()\n    (4): Linear(in_features=10, out_features=1, bias=True)\n  )\n)\n"
     ]
    }
   ],
   "source": [
    "model=Model()\n",
    "print(model)"
   ]
  },
  {
   "cell_type": "code",
   "execution_count": 110,
   "metadata": {},
   "outputs": [],
   "source": [
    "X=np.zeros(2)\n",
    "Y=np.zeros(1)\n",
    "X[0]=random.random()\n",
    "X[1]=random.random()\n",
    "Y[0]=(math.pow(X[0],2)+math.pow(X[1],2))/2"
   ]
  },
  {
   "cell_type": "code",
   "execution_count": 111,
   "metadata": {},
   "outputs": [],
   "source": [
    "trainX=torch.tensor(X,dtype=torch.float32)\n",
    "trainY=torch.tensor(Y,dtype=torch.float32)\n",
    "loss_func=torch.nn.MSELoss()\n",
    "LEARNING_RATE=0.01\n",
    "optimizer = torch.optim.Adam(model.parameters(), lr=LEARNING_RATE)\n",
    "TRAIN_TIMES=5"
   ]
  },
  {
   "source": [
    "## Loss by batch size 1"
   ],
   "cell_type": "markdown",
   "metadata": {}
  },
  {
   "cell_type": "code",
   "execution_count": 141,
   "metadata": {},
   "outputs": [
    {
     "output_type": "execute_result",
     "data": {
      "text/plain": [
       "array([0.97436534, 0.31171513])"
      ]
     },
     "metadata": {},
     "execution_count": 141
    }
   ],
   "source": [
    "X"
   ]
  },
  {
   "cell_type": "code",
   "execution_count": 112,
   "metadata": {
    "tags": []
   },
   "outputs": [
    {
     "output_type": "stream",
     "name": "stdout",
     "text": [
      "0.6471283\n"
     ]
    }
   ],
   "source": [
    "\n",
    "optimizer.zero_grad()  \n",
    "\n",
    "prediction = model(trainX)\n",
    "#print(prediction.dtype)\n",
    "loss = loss_func(prediction, trainY)\n",
    "\n",
    "# Back propagation for loss\n",
    "loss.backward()\n",
    "# 按照最小loss优化参数\n",
    "#optimizer.step()\n",
    "    \n",
    "print(loss.data.numpy())"
   ]
  },
  {
   "cell_type": "code",
   "execution_count": 113,
   "metadata": {},
   "outputs": [
    {
     "output_type": "execute_result",
     "data": {
      "text/plain": [
       "0.41877502"
      ]
     },
     "metadata": {},
     "execution_count": 113
    }
   ],
   "source": [
    "loss.data.numpy()**2"
   ]
  },
  {
   "cell_type": "code",
   "execution_count": 114,
   "metadata": {},
   "outputs": [],
   "source": [
    "grads = []\n",
    "for param in model.parameters():\n",
    "    grads.append(param.grad.view(-1))"
   ]
  },
  {
   "source": [
    "## Get grads"
   ],
   "cell_type": "markdown",
   "metadata": {}
  },
  {
   "cell_type": "code",
   "execution_count": 115,
   "metadata": {},
   "outputs": [
    {
     "output_type": "execute_result",
     "data": {
      "text/plain": [
       "[tensor([-0.0016, -0.0005, -0.0013, -0.0004,  0.0073,  0.0023, -0.0128, -0.0041,\n",
       "          0.0217,  0.0069, -0.0148, -0.0047,  0.0075,  0.0024, -0.0180, -0.0058,\n",
       "          0.0033,  0.0011,  0.0012,  0.0004]),\n",
       " tensor([-0.0017, -0.0014,  0.0074, -0.0131,  0.0223, -0.0152,  0.0077, -0.0185,\n",
       "          0.0034,  0.0013]),\n",
       " tensor([ 0.0025,  0.0053,  0.0053,  0.0044,  0.0034,  0.0037,  0.0050,  0.0029,\n",
       "          0.0046,  0.0028,  0.0028,  0.0057,  0.0058,  0.0048,  0.0037,  0.0040,\n",
       "          0.0054,  0.0031,  0.0050,  0.0031,  0.0065,  0.0135,  0.0136,  0.0113,\n",
       "          0.0087,  0.0095,  0.0128,  0.0073,  0.0119,  0.0073, -0.0174, -0.0363,\n",
       "         -0.0365, -0.0303, -0.0234, -0.0254, -0.0342, -0.0197, -0.0318, -0.0195,\n",
       "          0.0389,  0.0812,  0.0817,  0.0678,  0.0523,  0.0568,  0.0767,  0.0441,\n",
       "          0.0712,  0.0436, -0.0284, -0.0592, -0.0597, -0.0495, -0.0382, -0.0415,\n",
       "         -0.0560, -0.0322, -0.0520, -0.0319,  0.0077,  0.0160,  0.0161,  0.0133,\n",
       "          0.0103,  0.0112,  0.0151,  0.0087,  0.0140,  0.0086, -0.0427, -0.0889,\n",
       "         -0.0895, -0.0743, -0.0573, -0.0622, -0.0840, -0.0483, -0.0779, -0.0478,\n",
       "          0.0405,  0.0843,  0.0850,  0.0705,  0.0544,  0.0590,  0.0797,  0.0458,\n",
       "          0.0739,  0.0454, -0.0064, -0.0133, -0.0134, -0.0111, -0.0086, -0.0093,\n",
       "         -0.0126, -0.0072, -0.0117, -0.0071]),\n",
       " tensor([ 0.0073,  0.0079,  0.0187, -0.0500,  0.1119, -0.0817,  0.0220, -0.1226,\n",
       "          0.1163, -0.0183]),\n",
       " tensor([-0.7703, -0.6855, -0.7232, -0.9646, -0.8631, -0.7418, -1.0050, -0.7975,\n",
       "         -0.8975, -0.9515]),\n",
       " tensor([-1.6089])]"
      ]
     },
     "metadata": {},
     "execution_count": 115
    }
   ],
   "source": [
    "grads"
   ]
  },
  {
   "cell_type": "code",
   "execution_count": 116,
   "metadata": {},
   "outputs": [],
   "source": [
    "parameters=[]\n",
    "for p in model.parameters():\n",
    "    parameters.append(p)"
   ]
  },
  {
   "cell_type": "code",
   "execution_count": 117,
   "metadata": {},
   "outputs": [],
   "source": [
    "W1=parameters[0].data.numpy()\n",
    "b1=parameters[1].data.numpy()\n",
    "W2=parameters[2].data.numpy()\n",
    "b2=parameters[3].data.numpy()\n",
    "W3=parameters[4].data.numpy()\n",
    "b3=parameters[5].data.numpy()"
   ]
  },
  {
   "cell_type": "code",
   "execution_count": 118,
   "metadata": {},
   "outputs": [
    {
     "output_type": "execute_result",
     "data": {
      "text/plain": [
       "(100,)"
      ]
     },
     "metadata": {},
     "execution_count": 118
    }
   ],
   "source": [
    "np.array(grads[2]).shape"
   ]
  },
  {
   "source": [
    "## Forward propagation in scratch"
   ],
   "cell_type": "markdown",
   "metadata": {}
  },
  {
   "cell_type": "code",
   "execution_count": 119,
   "metadata": {},
   "outputs": [],
   "source": [
    "def my_sigmoid(X):\n",
    "    return 1/(1+np.exp(-X))\n",
    "\n",
    "def my_forward_prop(X,W,b):\n",
    "    Z=np.dot(W,X)+b\n",
    "    return Z"
   ]
  },
  {
   "cell_type": "code",
   "execution_count": 120,
   "metadata": {},
   "outputs": [
    {
     "output_type": "execute_result",
     "data": {
      "text/plain": [
       "array([[-0.09234011, -0.42046437],\n",
       "       [ 0.39928764, -0.3519029 ],\n",
       "       [ 0.4203933 ,  0.493105  ],\n",
       "       [ 0.55517215, -0.48097882],\n",
       "       [-0.34603843, -0.15631658],\n",
       "       [-0.37699986,  0.19824064],\n",
       "       [ 0.07747424,  0.6450015 ],\n",
       "       [-0.15236527, -0.4518948 ],\n",
       "       [ 0.4987306 ,  0.6075081 ],\n",
       "       [ 0.32309574, -0.5875269 ]], dtype=float32)"
      ]
     },
     "metadata": {},
     "execution_count": 120
    }
   ],
   "source": [
    "W1"
   ]
  },
  {
   "cell_type": "code",
   "execution_count": 121,
   "metadata": {},
   "outputs": [
    {
     "output_type": "execute_result",
     "data": {
      "text/plain": [
       "array([-0.28116576])"
      ]
     },
     "metadata": {},
     "execution_count": 121
    }
   ],
   "source": [
    "z1 = np.dot(W1, X) + b1\n",
    "z1_act = my_sigmoid(z1)\n",
    "z2 = np.dot(W2, z1_act) + b2\n",
    "z2_act = my_sigmoid(z2)\n",
    "z3 = np.dot(W3, z2_act) + b3\n",
    "z3"
   ]
  },
  {
   "cell_type": "code",
   "execution_count": 122,
   "metadata": {},
   "outputs": [
    {
     "output_type": "execute_result",
     "data": {
      "text/plain": [
       "array([-0.28116578], dtype=float32)"
      ]
     },
     "metadata": {},
     "execution_count": 122
    }
   ],
   "source": [
    "prediction.data.numpy()"
   ]
  },
  {
   "source": [
    "## Back propagation in scratch"
   ],
   "cell_type": "markdown",
   "metadata": {}
  },
  {
   "cell_type": "code",
   "execution_count": 123,
   "metadata": {},
   "outputs": [],
   "source": [
    "def my_loss(y_true,y_pred):\n",
    "    return np.power(y_true-y_pred,2)"
   ]
  },
  {
   "cell_type": "code",
   "execution_count": 124,
   "metadata": {},
   "outputs": [],
   "source": [
    "def loss_gradient(y_true,y_pred):\n",
    "    return 2*y_pred-2*y_true"
   ]
  },
  {
   "cell_type": "code",
   "execution_count": 125,
   "metadata": {},
   "outputs": [],
   "source": [
    "def sigmoid_gradient(Z):\n",
    "    return my_sigmoid(Z) * (1-my_sigmoid(Z))"
   ]
  },
  {
   "cell_type": "code",
   "execution_count": 126,
   "metadata": {},
   "outputs": [
    {
     "output_type": "execute_result",
     "data": {
      "text/plain": [
       "array([-0.77028648, -0.68547447, -0.72318788, -0.96456754, -0.86306459,\n",
       "       -0.74180506, -1.00498997, -0.79745549, -0.89748667, -0.95148059])"
      ]
     },
     "metadata": {},
     "execution_count": 126
    }
   ],
   "source": [
    "delta3=loss_gradient(Y,prediction.data.numpy())\n",
    "b3_gradient=delta3\n",
    "w3_gradient=np.dot(delta3, z2_act.transpose().reshape((1,10)))\n",
    "w3_gradient"
   ]
  },
  {
   "cell_type": "code",
   "execution_count": 127,
   "metadata": {},
   "outputs": [],
   "source": [
    "delta2=np.dot(W3.transpose(), delta3) * sigmoid_gradient(z2)\n",
    "b2_gradient=delta2\n",
    "w2_gradient=np.dot(delta2.reshape((10,1)), z1_act.transpose().reshape(1, 10))"
   ]
  },
  {
   "cell_type": "code",
   "execution_count": 133,
   "metadata": {},
   "outputs": [],
   "source": [
    "delta1=np.dot(W2.transpose(),delta2)* sigmoid_gradient(z1)\n",
    "b1_gradient=delta1\n",
    "w1_gradient=np.dot(delta1.reshape((10, 1)), X.transpose().reshape((1, 2)))"
   ]
  },
  {
   "cell_type": "code",
   "execution_count": 135,
   "metadata": {},
   "outputs": [
    {
     "output_type": "execute_result",
     "data": {
      "text/plain": [
       "[array([-0.00164108, -0.00052501, -0.00132329, -0.00042334,  0.00725804,\n",
       "         0.00232196, -0.01277838, -0.00408801,  0.02172195,  0.0069492 ,\n",
       "        -0.01480642, -0.00473681,  0.00754285,  0.00241308, -0.01800024,\n",
       "        -0.00575857,  0.00330978,  0.00105885,  0.00122226,  0.00039102],\n",
       "       dtype=float32),\n",
       " array([-0.00168426, -0.00135811,  0.00744899, -0.01311456,  0.02229343,\n",
       "        -0.01519596,  0.0077413 , -0.01847381,  0.00339685,  0.00125441],\n",
       "       dtype=float32),\n",
       " array([ 0.00254151,  0.0052963 ,  0.0053351 ,  0.00442638,  0.00341447,\n",
       "         0.00370777,  0.00500269,  0.00287559,  0.00464409,  0.0028483 ,\n",
       "         0.00275756,  0.00574654,  0.00578863,  0.00480267,  0.00370474,\n",
       "         0.00402297,  0.00542797,  0.00312005,  0.00503888,  0.00309043,\n",
       "         0.00649167,  0.01352815,  0.01362724,  0.01130615,  0.00872146,\n",
       "         0.00947062,  0.01277818,  0.00734502,  0.01186222,  0.0072753 ,\n",
       "        -0.01739636, -0.03625269, -0.03651822, -0.03029817, -0.02337174,\n",
       "        -0.02537934, -0.03424293, -0.01968315, -0.03178834, -0.01949633,\n",
       "         0.03894285,  0.08115396,  0.08174837,  0.06782439,  0.05231913,\n",
       "         0.05681327,  0.07665498,  0.044062  ,  0.07116023,  0.04364377,\n",
       "        -0.02843176, -0.05924962, -0.0596836 , -0.04951786, -0.03819763,\n",
       "        -0.04147875, -0.05596497, -0.03216919, -0.05195331, -0.03186385,\n",
       "         0.00765897,  0.0159607 ,  0.01607761,  0.01333915,  0.0102897 ,\n",
       "         0.01117358,  0.01507588,  0.00866576,  0.01399522,  0.0085835 ,\n",
       "        -0.04265824, -0.08889653, -0.08954766, -0.07429525, -0.05731069,\n",
       "        -0.0622336 , -0.08396832, -0.04826577, -0.07794934, -0.04780765,\n",
       "         0.04046927,  0.0843349 ,  0.08495261,  0.07048286,  0.05436985,\n",
       "         0.05904015,  0.07965957,  0.04578907,  0.07394945,  0.04535445,\n",
       "        -0.00637829, -0.01329187, -0.01338923, -0.01110868, -0.00856913,\n",
       "        -0.00930521, -0.012555  , -0.00721673, -0.01165504, -0.00714823],\n",
       "       dtype=float32),\n",
       " array([ 0.00730192,  0.00792266,  0.01865103, -0.04998096,  0.11188558,\n",
       "        -0.08168644,  0.02200475, -0.12256013,  0.11627109, -0.01832527],\n",
       "       dtype=float32),\n",
       " array([-0.7702865 , -0.68547446, -0.72318786, -0.9645675 , -0.8630646 ,\n",
       "        -0.74180496, -1.00499   , -0.79745543, -0.8974866 , -0.9514805 ],\n",
       "       dtype=float32),\n",
       " array([-1.6088856], dtype=float32)]"
      ]
     },
     "metadata": {},
     "execution_count": 135
    }
   ],
   "source": [
    "torch_autograd=[]\n",
    "for g in grads:\n",
    "    torch_autograd.append(np.array(g))\n",
    "torch_autograd"
   ]
  },
  {
   "cell_type": "code",
   "execution_count": 137,
   "metadata": {},
   "outputs": [
    {
     "output_type": "execute_result",
     "data": {
      "text/plain": [
       "[array([[-0.00164108, -0.00052501],\n",
       "        [-0.00132329, -0.00042334],\n",
       "        [ 0.00725804,  0.00232196],\n",
       "        [-0.01277838, -0.00408801],\n",
       "        [ 0.02172195,  0.0069492 ],\n",
       "        [-0.01480642, -0.00473681],\n",
       "        [ 0.00754285,  0.00241308],\n",
       "        [-0.01800024, -0.00575857],\n",
       "        [ 0.00330978,  0.00105885],\n",
       "        [ 0.00122226,  0.00039102]]),\n",
       " array([-0.00168426, -0.00135811,  0.00744899, -0.01311456,  0.02229343,\n",
       "        -0.01519596,  0.0077413 , -0.01847381,  0.00339685,  0.00125441]),\n",
       " array([[ 0.00254151,  0.0052963 ,  0.0053351 ,  0.00442638,  0.00341447,\n",
       "          0.00370777,  0.00500269,  0.00287559,  0.00464409,  0.0028483 ],\n",
       "        [ 0.00275756,  0.00574654,  0.00578863,  0.00480267,  0.00370474,\n",
       "          0.00402297,  0.00542797,  0.00312005,  0.00503888,  0.00309043],\n",
       "        [ 0.00649167,  0.01352815,  0.01362724,  0.01130615,  0.00872146,\n",
       "          0.00947062,  0.01277818,  0.00734502,  0.01186222,  0.0072753 ],\n",
       "        [-0.01739636, -0.03625269, -0.03651822, -0.03029817, -0.02337174,\n",
       "         -0.02537934, -0.03424293, -0.01968316, -0.03178834, -0.01949633],\n",
       "        [ 0.03894286,  0.08115396,  0.08174838,  0.0678244 ,  0.05231913,\n",
       "          0.05681328,  0.07665498,  0.044062  ,  0.07116023,  0.04364378],\n",
       "        [-0.02843176, -0.05924963, -0.0596836 , -0.04951785, -0.03819763,\n",
       "         -0.04147876, -0.05596497, -0.03216919, -0.05195331, -0.03186385],\n",
       "        [ 0.00765897,  0.0159607 ,  0.01607761,  0.01333915,  0.0102897 ,\n",
       "          0.01117358,  0.01507588,  0.00866576,  0.01399522,  0.0085835 ],\n",
       "        [-0.04265824, -0.08889653, -0.08954765, -0.07429525, -0.05731069,\n",
       "         -0.0622336 , -0.08396832, -0.04826578, -0.07794934, -0.04780765],\n",
       "        [ 0.04046928,  0.0843349 ,  0.08495262,  0.07048287,  0.05436985,\n",
       "          0.05904015,  0.07965958,  0.04578907,  0.07394945,  0.04535445],\n",
       "        [-0.00637829, -0.01329187, -0.01338923, -0.01110868, -0.00856913,\n",
       "         -0.00930521, -0.012555  , -0.00721673, -0.01165504, -0.00714823]]),\n",
       " array([ 0.00730192,  0.00792266,  0.01865103, -0.04998097,  0.11188558,\n",
       "        -0.08168645,  0.02200475, -0.12256013,  0.11627109, -0.01832527]),\n",
       " array([-0.77028648, -0.68547447, -0.72318788, -0.96456754, -0.86306459,\n",
       "        -0.74180506, -1.00498997, -0.79745549, -0.89748667, -0.95148059]),\n",
       " array([-1.6088857])]"
      ]
     },
     "metadata": {},
     "execution_count": 137
    }
   ],
   "source": [
    "my_autograd=[w1_gradient,b1_gradient,w2_gradient,b2_gradient,w3_gradient,b3_gradient]\n",
    "my_autograd"
   ]
  },
  {
   "cell_type": "code",
   "execution_count": 140,
   "metadata": {},
   "outputs": [
    {
     "output_type": "execute_result",
     "data": {
      "text/plain": [
       "2283"
      ]
     },
     "metadata": {},
     "execution_count": 140
    }
   ],
   "source": [
    "file = open('my_autograd.dat',\"w\")\n",
    "file.write(str(my_autograd))"
   ]
  },
  {
   "cell_type": "code",
   "execution_count": null,
   "metadata": {},
   "outputs": [],
   "source": []
  }
 ]
}