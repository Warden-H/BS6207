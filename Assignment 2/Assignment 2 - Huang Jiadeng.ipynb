{
 "cells": [
  {
   "source": [
    "# Q2.2"
   ],
   "cell_type": "markdown",
   "metadata": {}
  },
  {
   "cell_type": "code",
   "execution_count": 30,
   "metadata": {},
   "outputs": [],
   "source": [
    "m = [0]\n",
    "v = [0]\n",
    "m_ = [0]\n",
    "v_ = [0]\n",
    "b1 = 0.9\n",
    "b2 = 0.999\n",
    "a = 0.3\n",
    "t = 0\n",
    "theta = [-1]"
   ]
  },
  {
   "cell_type": "code",
   "execution_count": 31,
   "metadata": {},
   "outputs": [],
   "source": [
    "for i in range(0,10):\n",
    "    t = t + 1\n",
    "    if(theta[-1]<0):\n",
    "        g = -1\n",
    "    else: g = 1\n",
    "    m.append(b1 * m[-1] + (1 - b1) * g)\n",
    "    v.append(b2 * v[-1] + (1 - b2) * (g**2))\n",
    "    m_.append(m[-1] / (1 - b1**t))\n",
    "    v_.append(v[-1] / (1 - b2**t))\n",
    "    theta.append(theta[-1] - a * m_[-1] * (v_[-1]**0.5))"
   ]
  },
  {
   "cell_type": "code",
   "execution_count": 32,
   "metadata": {},
   "outputs": [
    {
     "output_type": "execute_result",
     "data": {
      "text/plain": [
       "[-1,\n",
       " -0.7,\n",
       " -0.39999999999999786,\n",
       " -0.09999999999999776,\n",
       " 0.20000000000000367,\n",
       " 0.35348343141804006,\n",
       " 0.41018429512997384,\n",
       " 0.39851277161401233,\n",
       " 0.3362158088702168,\n",
       " 0.23511522423117243,\n",
       " 0.10347681809094891]"
      ]
     },
     "metadata": {},
     "execution_count": 32
    }
   ],
   "source": [
    "theta"
   ]
  },
  {
   "cell_type": "code",
   "execution_count": 33,
   "metadata": {},
   "outputs": [
    {
     "output_type": "execute_result",
     "data": {
      "text/plain": [
       "[0,\n",
       " -0.09999999999999998,\n",
       " -0.18999999999999995,\n",
       " -0.2709999999999999,\n",
       " -0.3438999999999999,\n",
       " -0.20950999999999992,\n",
       " -0.08855899999999994,\n",
       " 0.02029690000000002,\n",
       " 0.11826721,\n",
       " 0.20644048899999998,\n",
       " 0.28579644009999994]"
      ]
     },
     "metadata": {},
     "execution_count": 33
    }
   ],
   "source": [
    "m"
   ]
  },
  {
   "cell_type": "code",
   "execution_count": 34,
   "metadata": {},
   "outputs": [
    {
     "output_type": "execute_result",
     "data": {
      "text/plain": [
       "[0,\n",
       " 0.0010000000000000009,\n",
       " 0.0019990000000000016,\n",
       " 0.0029970010000000026,\n",
       " 0.003994003999000004,\n",
       " 0.0049900099950010044,\n",
       " 0.005985019985006004,\n",
       " 0.006979034965020999,\n",
       " 0.007972055930055979,\n",
       " 0.008964083874125924,\n",
       " 0.009955119790251798]"
      ]
     },
     "metadata": {},
     "execution_count": 34
    }
   ],
   "source": [
    "v"
   ]
  },
  {
   "cell_type": "code",
   "execution_count": 35,
   "metadata": {},
   "outputs": [
    {
     "output_type": "execute_result",
     "data": {
      "text/plain": [
       "10"
      ]
     },
     "metadata": {},
     "execution_count": 35
    }
   ],
   "source": [
    "t"
   ]
  },
  {
   "cell_type": "code",
   "execution_count": null,
   "metadata": {},
   "outputs": [],
   "source": []
  }
 ],
 "metadata": {
  "kernelspec": {
   "name": "python388jvsc74a57bd00ee331321a9a075ceb5dd851b0096fd7d04a308855411bb4d0c4ecd76c1785a0",
   "display_name": "Python 3.8.8 64-bit ('DeepLearning': conda)"
  },
  "language_info": {
   "codemirror_mode": {
    "name": "ipython",
    "version": 3
   },
   "file_extension": ".py",
   "mimetype": "text/x-python",
   "name": "python",
   "nbconvert_exporter": "python",
   "pygments_lexer": "ipython3",
   "version": "3.8.8"
  }
 },
 "nbformat": 4,
 "nbformat_minor": 4
}